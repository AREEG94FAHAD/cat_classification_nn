{
 "cells": [
  {
   "cell_type": "markdown",
   "id": "bb2f886a",
   "metadata": {},
   "source": [
    "# Cat classification using a simple neural network"
   ]
  },
  {
   "cell_type": "markdown",
   "id": "8580e025",
   "metadata": {},
   "source": [
    "## 1- Packets ##\n",
    "Required packets that are needed for these experiments\n",
    "- [numpy](https://numpy.org/doc/1.20/) is the fundamental package for scientific computing with Python.\n",
    "- [h5py](http://www.h5py.org) is a common package to interact with a dataset that is stored on an H5 file.\n",
    "- [matplotlib](http://matplotlib.org) is a famous library to plot graphs in Python.\n",
    "- [PIL](https://pillow.readthedocs.io/en/stable/) and [scipy](https://www.scipy.org/) are used here to test your model with your own picture at the end."
   ]
  },
  {
   "cell_type": "code",
   "execution_count": 1,
   "id": "f200588d",
   "metadata": {},
   "outputs": [],
   "source": [
    "import numpy as np\n",
    "import copy\n",
    "import matplotlib.pyplot as plt\n",
    "import h5py\n",
    "import scipy\n",
    "from PIL import Image\n",
    "from scipy import ndimage\n",
    "\n",
    "%matplotlib inline\n",
    "%load_ext autoreload\n",
    "%autoreload 2"
   ]
  },
  {
   "cell_type": "markdown",
   "id": "bbdeb2fb",
   "metadata": {},
   "source": [
    "## 2- Overview of the Problem set ##"
   ]
  },
  {
   "cell_type": "markdown",
   "id": "71340ace",
   "metadata": {},
   "source": [
    "We have a simple dataset that contains cat images and non-cat images. Each image is labeled 1 if it's a cat and 0 if it's not. The idea is to design a simple deep-learning model to predict cat images."
   ]
  },
  {
   "cell_type": "markdown",
   "id": "5564c4eb",
   "metadata": {},
   "source": [
    "a function to load and store the dataset into the training set and the test set"
   ]
  },
  {
   "cell_type": "code",
   "execution_count": 2,
   "id": "e91bf55e",
   "metadata": {},
   "outputs": [],
   "source": [
    "import numpy as np\n",
    "import h5py\n",
    "    \n",
    "    \n",
    "def load_dataset():\n",
    "    \n",
    "    # load the training data from train_catvnoncat.h5 file\n",
    "    \n",
    "    train_dataset = h5py.File('datasets/train_catvnoncat.h5', \"r\")\n",
    "    train_set_x_orig = np.array(train_dataset[\"train_set_x\"][:]) # your train set features\n",
    "    train_set_y_orig = np.array(train_dataset[\"train_set_y\"][:]) # your train set labels\n",
    "\n",
    "    # load the test data from test_catvnoncat.h5 file\n",
    "    \n",
    "    test_dataset = h5py.File('datasets/test_catvnoncat.h5', \"r\")\n",
    "    test_set_x_orig = np.array(test_dataset[\"test_set_x\"][:]) # your test set features\n",
    "    test_set_y_orig = np.array(test_dataset[\"test_set_y\"][:]) # your test set labels\n",
    "\n",
    "    classes = np.array(test_dataset[\"list_classes\"][:]) # the list of classes\n",
    "    \n",
    "    # train_set_y_orig.shape = (209,)\n",
    "    train_set_y_orig = train_set_y_orig.reshape((1, train_set_y_orig.shape[0]))\n",
    "    # train_set_y_orig.shape = (1,209)\n",
    "    test_set_y_orig = test_set_y_orig.reshape((1, test_set_y_orig.shape[0]))\n",
    "    \n",
    "    return train_set_x_orig, train_set_y_orig, test_set_x_orig, test_set_y_orig, classes\n",
    "\n"
   ]
  },
  {
   "cell_type": "code",
   "execution_count": 3,
   "id": "f73a963a",
   "metadata": {},
   "outputs": [],
   "source": [
    "train_set_x_orig, train_set_y, test_set_x_orig, test_set_y, classes = load_dataset()"
   ]
  },
  {
   "cell_type": "markdown",
   "id": "5ec7fa56",
   "metadata": {},
   "source": [
    "### 2.1 Training data"
   ]
  },
  {
   "cell_type": "code",
   "execution_count": 4,
   "id": "ff335fb1",
   "metadata": {},
   "outputs": [
    {
     "data": {
      "text/plain": [
       "(209, 64, 64, 3)"
      ]
     },
     "execution_count": 4,
     "metadata": {},
     "output_type": "execute_result"
    }
   ],
   "source": [
    "train_set_x_orig.shape"
   ]
  },
  {
   "cell_type": "markdown",
   "id": "bbab07c2",
   "metadata": {},
   "source": [
    "☝️ We have 209 images, each with 64 width and 64 height and three numbers corresponding to red, green, and blue. "
   ]
  },
  {
   "cell_type": "markdown",
   "id": "2291f1b2",
   "metadata": {},
   "source": [
    "Print the first row and first column of the image with index 22."
   ]
  },
  {
   "cell_type": "code",
   "execution_count": 5,
   "id": "015b7bbc",
   "metadata": {},
   "outputs": [
    {
     "data": {
      "text/plain": [
       "array([164, 178, 186], dtype=uint8)"
      ]
     },
     "execution_count": 5,
     "metadata": {},
     "output_type": "execute_result"
    }
   ],
   "source": [
    "train_set_x_orig[22][0][0]"
   ]
  },
  {
   "cell_type": "code",
   "execution_count": 6,
   "id": "2e7d411d",
   "metadata": {},
   "outputs": [
    {
     "data": {
      "text/plain": [
       "(1, 209)"
      ]
     },
     "execution_count": 6,
     "metadata": {},
     "output_type": "execute_result"
    }
   ],
   "source": [
    "train_set_y.shape"
   ]
  },
  {
   "cell_type": "markdown",
   "id": "afe1505d",
   "metadata": {},
   "source": [
    "☝️ array with one row and 209 columns. The value is either 1 or 0. where 1 denotes cats and 0 denotes non-cats "
   ]
  },
  {
   "cell_type": "code",
   "execution_count": 7,
   "id": "e4d24491",
   "metadata": {},
   "outputs": [
    {
     "data": {
      "text/plain": [
       "array([b'non-cat', b'cat'], dtype='|S7')"
      ]
     },
     "execution_count": 7,
     "metadata": {},
     "output_type": "execute_result"
    }
   ],
   "source": [
    "classes"
   ]
  },
  {
   "cell_type": "markdown",
   "id": "81a29224",
   "metadata": {},
   "source": [
    "> numpy.squeeze() function is used when we want to remove single-dimensional entries from the shape of an array. it not used for multdimensional."
   ]
  },
  {
   "cell_type": "code",
   "execution_count": 8,
   "id": "cb972966",
   "metadata": {},
   "outputs": [
    {
     "name": "stdout",
     "output_type": "stream",
     "text": [
      "(1, 4)\n",
      "(4,)\n"
     ]
    }
   ],
   "source": [
    "a1 = np.array([[1,2,3,4]])\n",
    "print(a1.shape)\n",
    "\n",
    "a1 = np.squeeze(a1)\n",
    "print(a1.shape)"
   ]
  },
  {
   "cell_type": "code",
   "execution_count": 12,
   "id": "72b1b489",
   "metadata": {},
   "outputs": [
    {
     "data": {
      "text/plain": [
       "1"
      ]
     },
     "execution_count": 12,
     "metadata": {},
     "output_type": "execute_result"
    }
   ],
   "source": [
    "a1[0]\n",
    "# a[1] can not be executed due to the fact that there is only one row "
   ]
  },
  {
   "cell_type": "code",
   "execution_count": 13,
   "id": "5cd06bd0",
   "metadata": {},
   "outputs": [
    {
     "name": "stdout",
     "output_type": "stream",
     "text": [
      "y = [1], it's a 'cat' picture.\n"
     ]
    },
    {
     "data": {
      "text/plain": [
       "'train_set_y[:, index] can be writen as train_set_y[0,index] or train_set_y[0][index]\\n'"
      ]
     },
     "execution_count": 13,
     "metadata": {},
     "output_type": "execute_result"
    },
    {
     "data": {
      "image/png": "[encoded data removed]",
      "text/plain": [
       "<Figure size 640x480 with 1 Axes>"
      ]
     },
     "metadata": {},
     "output_type": "display_data"
    }
   ],
   "source": [
    "# Example of a picture\n",
    "index = 25 # can be any number from 0 to 208\n",
    "plt.imshow(train_set_x_orig[index])\n",
    "\n",
    "\n",
    "print (\"y = \" + str(train_set_y[:, index]) + \", it's a '\" + classes[np.squeeze(train_set_y[:, index])].decode(\"utf-8\") +  \"' picture.\")\n",
    "\n",
    "'''train_set_y[:, index] can be writen as train_set_y[0,index] or train_set_y[0][index]\n",
    "'''\n"
   ]
  },
  {
   "cell_type": "markdown",
   "id": "c259c78d",
   "metadata": {},
   "source": [
    "### Question 1:\n",
    "1. Determine the number of training and test sets\n",
    "2. The dimension of each sample in the dataset"
   ]
  },
  {
   "cell_type": "code",
   "execution_count": 14,
   "id": "151620b5",
   "metadata": {},
   "outputs": [
    {
     "name": "stdout",
     "output_type": "stream",
     "text": [
      "The training shape (209, 64, 64, 3)\n",
      "The test shape (209, 64, 64, 3)\n",
      "------- training set ---------\n",
      "Number of samples 209\n",
      "Number of row (width of image) 64\n",
      "Number of col (height of image) 64\n",
      "Number of channel (rgb) 3\n",
      "------- test set ---------\n",
      "Number of samples 50\n",
      "Number of row (width of image) 64\n",
      "Number of col (height of image) 64\n",
      "Number of channel (rgb) 3\n"
     ]
    }
   ],
   "source": [
    "\n",
    "print('The training shape',train_set_x_orig.shape)\n",
    "\n",
    "print('The test shape',train_set_x_orig.shape)\n",
    "\n",
    "num_of_sample, width_of_image, heigh_of_image, channel = train_set_x_orig.shape\n",
    "print('------- training set ---------')\n",
    "print('Number of samples',num_of_sample)\n",
    "print('Number of row (width of image)',width_of_image)\n",
    "print('Number of col (height of image)',heigh_of_image)\n",
    "print('Number of channel (rgb)',channel)\n",
    "\n",
    "\n",
    "num_of_sample, width_of_image, heigh_of_image, channel = test_set_x_orig.shape\n",
    "print('------- test set ---------')\n",
    "print('Number of samples',num_of_sample)\n",
    "print('Number of row (width of image)',width_of_image)\n",
    "print('Number of col (height of image)',heigh_of_image)\n",
    "print('Number of channel (rgb)',channel)"
   ]
  },
  {
   "cell_type": "markdown",
   "id": "e106f446",
   "metadata": {},
   "source": [
    "## 2.2 Flattened the training and test sets"
   ]
  },
  {
   "cell_type": "markdown",
   "id": "04396e30",
   "metadata": {},
   "source": [
    "We are dealing with a four-dimensional array. It consists of 209 samples, each with an array of 64x64, and each cell in the array has three values.We need to flatten all 209 of the training data to be 209 of (64x64x3). For that, we need to use reshape properties."
   ]
  },
  {
   "cell_type": "markdown",
   "id": "45d6e1c0",
   "metadata": {},
   "source": [
    "### Reshape training data"
   ]
  },
  {
   "cell_type": "code",
   "execution_count": 15,
   "id": "4d145e4d",
   "metadata": {},
   "outputs": [],
   "source": [
    "num_of_sample, width_of_image, heigh_of_image, channel = train_set_x_orig.shape\n",
    "\n",
    "# method one \n",
    "train_set_x_flatten = train_set_x_orig.reshape(num_of_sample, width_of_image*heigh_of_image*channel)\n",
    "\n",
    "# method two \n",
    "train_set_x_flatten1 = train_set_x_orig.reshape(num_of_sample,-1)"
   ]
  },
  {
   "cell_type": "markdown",
   "id": "44fbd81f",
   "metadata": {},
   "source": [
    "Check if both arrays are equal."
   ]
  },
  {
   "cell_type": "code",
   "execution_count": 16,
   "id": "8d7ec2ee",
   "metadata": {},
   "outputs": [
    {
     "data": {
      "text/plain": [
       "True"
      ]
     },
     "execution_count": 16,
     "metadata": {},
     "output_type": "execute_result"
    }
   ],
   "source": [
    "(train_set_x_flatten == train_set_x_flatten1).all()"
   ]
  },
  {
   "cell_type": "code",
   "execution_count": 17,
   "id": "8c882a5e",
   "metadata": {},
   "outputs": [
    {
     "name": "stdout",
     "output_type": "stream",
     "text": [
      "Before reshape (209, 64, 64, 3)\n",
      "after reshape (209, 12288)\n"
     ]
    }
   ],
   "source": [
    "print('Before reshape',train_set_x_orig.shape)\n",
    "print('after reshape',train_set_x_flatten.shape)"
   ]
  },
  {
   "cell_type": "markdown",
   "id": "d944ec08",
   "metadata": {},
   "source": [
    "While the shape indicates that we have 12288 columns, we must enter the data into our model in vertical format.We can use up to convert (209, 12288) to (12288, 209). "
   ]
  },
  {
   "cell_type": "markdown",
   "id": "983111cd",
   "metadata": {},
   "source": [
    "<img src='reshape.png' width='450'/>"
   ]
  },
  {
   "cell_type": "code",
   "execution_count": 18,
   "id": "14ad7368",
   "metadata": {},
   "outputs": [
    {
     "data": {
      "text/plain": [
       "(12288, 209)"
      ]
     },
     "execution_count": 18,
     "metadata": {},
     "output_type": "execute_result"
    }
   ],
   "source": [
    "train_set_x_flatten = train_set_x_flatten.T\n",
    "train_set_x_flatten.shape"
   ]
  },
  {
   "cell_type": "markdown",
   "id": "50548488",
   "metadata": {},
   "source": [
    "### Reshape test data"
   ]
  },
  {
   "cell_type": "code",
   "execution_count": 19,
   "id": "c228b561",
   "metadata": {},
   "outputs": [],
   "source": [
    "test_set_x_flatten = test_set_x_orig.reshape(test_set_x_orig.shape[0],-1)\n",
    "test_set_x_flatten = test_set_x_flatten.T"
   ]
  },
  {
   "cell_type": "markdown",
   "id": "41a6f895",
   "metadata": {},
   "source": [
    "> -1 in reshape(-1) refers to an unknown dimension that the reshape() function calculates for you. It is like saying: “I will leave this dimension for the reshape() function to determine”. A common use case is to flatten a nested array of an unknown number of elements to a 1D array."
   ]
  },
  {
   "cell_type": "markdown",
   "id": "9e728974",
   "metadata": {},
   "source": [
    "### 3- Standardize our dataset"
   ]
  },
  {
   "cell_type": "markdown",
   "id": "6f10d146",
   "metadata": {},
   "source": [
    "Normalization typically means rescales the values into a range of [0,1]. Standardization typically means rescales data to have a mean of 0 and a standard deviation of 1 (unit variance)\n",
    "<img src='nor.png' width='400'/>\n",
    "\n",
    "\n",
    "<hr> \n",
    "To represent color images, the red, green and blue channels (RGB) must be specified for each pixel, and so the pixel value is actually a vector of three numbers ranging from 0 to 255.\n",
    "\n",
    "One common preprocessing step in machine learning is to center and standardize your dataset, meaning that you substract the mean of the whole numpy array from each example, and then divide each example by the standard deviation of the whole numpy array. But for picture datasets, it is simpler and more convenient and works almost as well to just divide every row of the dataset by 255 (the maximum value of a pixel channel).\n",
    "\n",
    "<!-- During the training of your model, you're going to multiply weights and add biases to some initial inputs in order to observe neuron activations. Then you backpropogate with the gradients to train the model. But, it is extremely important for each feature to have a similar range such that our gradients don't explode. You will see that more in detail later in the lectures. !--> \n",
    "\n",
    "Let's standardize our dataset."
   ]
  },
  {
   "cell_type": "code",
   "execution_count": 22,
   "id": "7580fbe6",
   "metadata": {},
   "outputs": [],
   "source": [
    "train_set_x = train_set_x_flatten / 255.\n",
    "test_set_x = test_set_x_flatten / 255."
   ]
  },
  {
   "cell_type": "code",
   "execution_count": 23,
   "id": "4c6a228c",
   "metadata": {},
   "outputs": [],
   "source": [
    "# This will print data of first col (image 1)\n",
    "# train_set_x[:,0]"
   ]
  },
  {
   "cell_type": "markdown",
   "id": "8442dd08",
   "metadata": {},
   "source": [
    "<font color='blue'>\n",
    "    \n",
    "    \n",
    "**What you need to remember:**\n",
    "\n",
    "Common steps for pre-processing a new dataset are:\n",
    "- Figure out the dimensions and shapes of the problem (m_train, m_test, num_px, ...)\n",
    "- Reshape the datasets such that each example is now a vector of size (num_px \\* num_px \\* 3, 1)\n",
    "- \"Standardize\" the data"
   ]
  },
  {
   "cell_type": "markdown",
   "id": "9d7363df",
   "metadata": {},
   "source": [
    "### 3 - General Architecture of the learning algorithm"
   ]
  },
  {
   "cell_type": "markdown",
   "id": "f1f243e1",
   "metadata": {},
   "source": [
    "<img src='art.png' width='500' />"
   ]
  },
  {
   "cell_type": "markdown",
   "id": "66d7a86b",
   "metadata": {},
   "source": [
    "#### 3.1  Helper functions"
   ]
  },
  {
   "cell_type": "markdown",
   "id": "970166c7",
   "metadata": {},
   "source": [
    "1. Sigmoid Function\n",
    "\n",
    "Using your code from \"Python Basics\", implement `sigmoid()`. As you've seen in the figure above, you need to compute $sigmoid(z) = \\frac{1}{1 + e^{-z}}$ for $z = w^T x + b$ to make predictions. Use np.exp()."
   ]
  },
  {
   "cell_type": "code",
   "execution_count": 24,
   "id": "af5938f1",
   "metadata": {},
   "outputs": [],
   "source": [
    "def sigmoid(z):\n",
    "    \n",
    "    s = 1 / (1+ np.exp(-z))\n",
    "    \n",
    "    return s"
   ]
  },
  {
   "cell_type": "markdown",
   "id": "2c25945b",
   "metadata": {},
   "source": [
    "2. Initialize_with_zeros\n",
    "\n",
    "This function creates a vector of zeros of shape (dim, 1) for w and initializes b to 0"
   ]
  },
  {
   "cell_type": "code",
   "execution_count": 25,
   "id": "000f1bc9",
   "metadata": {},
   "outputs": [],
   "source": [
    "def initialize_with_zeros(dim):\n",
    "    \n",
    "    w = np.zeros((dim,1))\n",
    "    b = 0.0\n",
    "    \n",
    "    return w, b"
   ]
  },
  {
   "cell_type": "markdown",
   "id": "66cf667e",
   "metadata": {},
   "source": [
    "## 4- Forward and Backward propagation"
   ]
  },
  {
   "cell_type": "markdown",
   "id": "a82c67b7",
   "metadata": {},
   "source": [
    "### 4.1 Forward propagation"
   ]
  },
  {
   "cell_type": "markdown",
   "id": "9674b7c3",
   "metadata": {},
   "source": [
    "Forward Propagation:\n",
    "- You get X\n",
    "- You compute $A = \\sigma(w^T X + b) = (a^{(1)}, a^{(2)}, ..., a^{(m-1)}, a^{(m)})$\n",
    "- You calculate the cost function: $J = -\\frac{1}{m}\\sum_{i=1}^{m}(y^{(i)}\\log(a^{(i)})+(1-y^{(i)})\\log(1-a^{(i)}))$\n",
    "\n",
    "Here are the two formulas you will be using: \n",
    "\n",
    "$$ \\frac{\\partial J}{\\partial w} = \\frac{1}{m}X(A-Y)^T\\tag{7}$$\n",
    "$$ \\frac{\\partial J}{\\partial b} = \\frac{1}{m} \\sum_{i=1}^m (a^{(i)}-y^{(i)})\\tag{8}$$"
   ]
  },
  {
   "cell_type": "code",
   "execution_count": 26,
   "id": "f056ef0f",
   "metadata": {},
   "outputs": [],
   "source": [
    "def propagate(w,b,X,Y):\n",
    "    \n",
    "    # x is an array where each row represents a feature and each column represents a sample.\n",
    "    m = X.shape[1]\n",
    "    \n",
    "    A = sigmoid(np.dot(w.T, X) + b) \n",
    "    \n",
    "    cost = (- 1 / m) * np.sum(Y * np.log(A) + (1 - Y) * (np.log(1 - A)))\n",
    "    \n",
    "    dw = (1/m) * (np.dot(X, (A - Y).T ))\n",
    "    db = (1/m) * np.sum(A - Y)\n",
    "    \n",
    "    cost = np.squeeze(np.array(cost))\n",
    "    \n",
    "    grads = {\"dw\": dw,\n",
    "             \"db\": db}\n",
    "        \n",
    "    return grads, cost"
   ]
  },
  {
   "cell_type": "code",
   "execution_count": 27,
   "id": "bd2088c9",
   "metadata": {},
   "outputs": [],
   "source": [
    "def weightsUpdate(w, b, X, Y, num_iterations=100, learning_rate=0.009, print_cost=False):\n",
    "    \n",
    "    w = copy.deepcopy(w)\n",
    "    b = copy.deepcopy(b)\n",
    "    \n",
    "    costs = []\n",
    "    \n",
    "    for i in range(num_iterations):\n",
    "        \n",
    "        grads, cost = propagate(w, b, X, Y) \n",
    "        \n",
    "        dw = grads[\"dw\"]\n",
    "        db = grads[\"db\"]\n",
    "        \n",
    "        \n",
    "        w = w - (learning_rate * dw)\n",
    "        b = b - (learning_rate *db)\n",
    "        \n",
    "        \n",
    "        # Record the costs\n",
    "        if i % 100 == 0:\n",
    "            costs.append(cost)\n",
    "        \n",
    "            # Print the cost every 100 training iterations\n",
    "            if print_cost:\n",
    "                print (\"Cost after iteration %i: %f\" %(i, cost))\n",
    "                \n",
    "    params = {\"w\": w,\n",
    "            \"b\": b}\n",
    "    \n",
    "    grads = {\"dw\": dw,\n",
    "             \"db\": db}\n",
    "    \n",
    "    return params, grads, costs"
   ]
  },
  {
   "cell_type": "code",
   "execution_count": 31,
   "id": "4bfe30dc",
   "metadata": {},
   "outputs": [],
   "source": [
    "def predict(w, b, X):\n",
    "    \n",
    "    m = X.shape[1]\n",
    "    Y_prediction = np.zeros((1, m))\n",
    "    \n",
    "    w = w.reshape(X.shape[0], 1)\n",
    "    \n",
    "    A = sigmoid(np.dot(w.T, X) + b)\n",
    "    \n",
    "    for i in range(A.shape[1]):\n",
    "        \n",
    "        Y_prediction[0, i] = 1 if A[0, i] > 0.5 else 0\n",
    "        \n",
    "    \n",
    "    return Y_prediction"
   ]
  },
  {
   "cell_type": "markdown",
   "id": "8f2ad62f",
   "metadata": {},
   "source": [
    "<font color='blue'>\n",
    "    \n",
    "**What to remember:**\n",
    "    \n",
    "You've implemented several functions that:\n",
    "- Initialize (w,b)\n",
    "- Optimize the loss iteratively to learn parameters (w,b):\n",
    "    - Computing the cost and its gradient \n",
    "    - Updating the parameters using gradient descent\n",
    "- Use the learned (w,b) to predict the labels for a given set of examples"
   ]
  },
  {
   "cell_type": "markdown",
   "id": "5ee28764",
   "metadata": {},
   "source": [
    "## 5- Merge all functions into a model"
   ]
  },
  {
   "cell_type": "code",
   "execution_count": 32,
   "id": "7a144bca",
   "metadata": {},
   "outputs": [],
   "source": [
    "def model(X_train, Y_train, X_test, Y_test, num_iterations=2000, learning_rate=0.5, print_cost=False):\n",
    "    \n",
    "    w, b = initialize_with_zeros(X_train.shape[0])\n",
    "    \n",
    "    parameters, grads, costs = weightsUpdate(w, b, X_train, Y_train, num_iterations, learning_rate, print_cost)\n",
    "    \n",
    "    w = parameters[\"w\"]\n",
    "    b = parameters[\"b\"]\n",
    "    \n",
    "    Y_prediction_test = predict(w, b, X_test)\n",
    "    Y_prediction_train = predict(w, b, X_train)\n",
    "    \n",
    "    \n",
    "    if print_cost:\n",
    "        print(\"train accuracy: {} %\".format(100 - np.mean(np.abs(Y_prediction_train - Y_train)) * 100))\n",
    "        print(\"test accuracy: {} %\".format(100 - np.mean(np.abs(Y_prediction_test - Y_test)) * 100))\n",
    "\n",
    "    \n",
    "    d = {\"costs\": costs,\n",
    "         \"Y_prediction_test\": Y_prediction_test, \n",
    "         \"Y_prediction_train\" : Y_prediction_train, \n",
    "         \"w\" : w, \n",
    "         \"b\" : b,\n",
    "         \"learning_rate\" : learning_rate,\n",
    "         \"num_iterations\": num_iterations}\n",
    "    \n",
    "    return d"
   ]
  },
  {
   "cell_type": "code",
   "execution_count": 33,
   "id": "6aa6bb16",
   "metadata": {},
   "outputs": [
    {
     "name": "stdout",
     "output_type": "stream",
     "text": [
      "Cost after iteration 0: 0.693147\n",
      "Cost after iteration 100: 0.584508\n",
      "Cost after iteration 200: 0.466949\n",
      "Cost after iteration 300: 0.376007\n",
      "Cost after iteration 400: 0.331463\n",
      "Cost after iteration 500: 0.303273\n",
      "Cost after iteration 600: 0.279880\n",
      "Cost after iteration 700: 0.260042\n",
      "Cost after iteration 800: 0.242941\n",
      "Cost after iteration 900: 0.228004\n",
      "Cost after iteration 1000: 0.214820\n",
      "Cost after iteration 1100: 0.203078\n",
      "Cost after iteration 1200: 0.192544\n",
      "Cost after iteration 1300: 0.183033\n",
      "Cost after iteration 1400: 0.174399\n",
      "Cost after iteration 1500: 0.166521\n",
      "Cost after iteration 1600: 0.159305\n",
      "Cost after iteration 1700: 0.152667\n",
      "Cost after iteration 1800: 0.146542\n",
      "Cost after iteration 1900: 0.140872\n",
      "train accuracy: 99.04306220095694 %\n",
      "test accuracy: 70.0 %\n"
     ]
    }
   ],
   "source": [
    "logistic_regression_model = model(train_set_x, train_set_y, test_set_x, test_set_y, num_iterations=2000, learning_rate=0.005, print_cost=True)"
   ]
  },
  {
   "cell_type": "markdown",
   "id": "ed933745",
   "metadata": {},
   "source": [
    "Plot an image form the dataset"
   ]
  },
  {
   "cell_type": "code",
   "execution_count": 59,
   "id": "3dcfc61e",
   "metadata": {},
   "outputs": [
    {
     "name": "stdout",
     "output_type": "stream",
     "text": [
      "y = [0], you predicted that it is a \"non-cat\" picture.\n"
     ]
    },
    {
     "data": {
      "image/png": "[encoded data removed]",
      "text/plain": [
       "<Figure size 640x480 with 1 Axes>"
      ]
     },
     "metadata": {},
     "output_type": "display_data"
    }
   ],
   "source": [
    "index = 14\n",
    "plt.imshow(test_set_x[:, index].reshape((width_of_image,heigh_of_image,channel)))\n",
    "print (\"y = \" + str(test_set_y[:,index]) + \", you predicted that it is a \\\"\" + classes[int(logistic_regression_model['Y_prediction_test'][:,index])].decode(\"utf-8\") +  \"\\\" picture.\")"
   ]
  },
  {
   "cell_type": "code",
   "execution_count": null,
   "id": "96bd095c",
   "metadata": {},
   "outputs": [],
   "source": []
  }
 ],
 "metadata": {
  "kernelspec": {
   "display_name": "Python 3 (ipykernel)",
   "language": "python",
   "name": "python3"
  },
  "language_info": {
   "codemirror_mode": {
    "name": "ipython",
    "version": 3
   },
   "file_extension": ".py",
   "mimetype": "text/x-python",
   "name": "python",
   "nbconvert_exporter": "python",
   "pygments_lexer": "ipython3",
   "version": "3.9.13"
  }
 },
 "nbformat": 4,
 "nbformat_minor": 5
}
